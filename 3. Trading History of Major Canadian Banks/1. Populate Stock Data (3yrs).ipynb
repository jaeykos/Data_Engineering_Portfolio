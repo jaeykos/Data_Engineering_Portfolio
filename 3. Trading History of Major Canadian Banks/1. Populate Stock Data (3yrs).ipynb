{
 "cells": [
  {
   "cell_type": "code",
   "execution_count": 1,
   "id": "b711ac99-a91c-4ba1-b9af-a0f3ba7820bd",
   "metadata": {
    "scrolled": true,
    "tags": []
   },
   "outputs": [
    {
     "name": "stdout",
     "output_type": "stream",
     "text": [
      "Requirement already satisfied: google-auth-oauthlib in c:\\users\\jaeyk\\anaconda3\\lib\\site-packages (0.7.0)\n",
      "Requirement already satisfied: requests-oauthlib>=0.7.0 in c:\\users\\jaeyk\\anaconda3\\lib\\site-packages (from google-auth-oauthlib) (1.3.1)\n",
      "Requirement already satisfied: google-auth>=2.13.0 in c:\\users\\jaeyk\\anaconda3\\lib\\site-packages (from google-auth-oauthlib) (2.14.0)\n",
      "Requirement already satisfied: rsa<5,>=3.1.4 in c:\\users\\jaeyk\\anaconda3\\lib\\site-packages (from google-auth>=2.13.0->google-auth-oauthlib) (4.7.2)\n",
      "Requirement already satisfied: pyasn1-modules>=0.2.1 in c:\\users\\jaeyk\\anaconda3\\lib\\site-packages (from google-auth>=2.13.0->google-auth-oauthlib) (0.2.8)\n",
      "Requirement already satisfied: six>=1.9.0 in c:\\users\\jaeyk\\anaconda3\\lib\\site-packages (from google-auth>=2.13.0->google-auth-oauthlib) (1.16.0)\n",
      "Requirement already satisfied: cachetools<6.0,>=2.0.0 in c:\\users\\jaeyk\\anaconda3\\lib\\site-packages (from google-auth>=2.13.0->google-auth-oauthlib) (4.2.2)\n",
      "Requirement already satisfied: pyasn1<0.5.0,>=0.4.6 in c:\\users\\jaeyk\\anaconda3\\lib\\site-packages (from pyasn1-modules>=0.2.1->google-auth>=2.13.0->google-auth-oauthlib) (0.4.8)\n",
      "Requirement already satisfied: oauthlib>=3.0.0 in c:\\users\\jaeyk\\anaconda3\\lib\\site-packages (from requests-oauthlib>=0.7.0->google-auth-oauthlib) (3.2.2)\n",
      "Requirement already satisfied: requests>=2.0.0 in c:\\users\\jaeyk\\anaconda3\\lib\\site-packages (from requests-oauthlib>=0.7.0->google-auth-oauthlib) (2.27.1)\n",
      "Requirement already satisfied: urllib3<1.27,>=1.21.1 in c:\\users\\jaeyk\\anaconda3\\lib\\site-packages (from requests>=2.0.0->requests-oauthlib>=0.7.0->google-auth-oauthlib) (1.26.9)\n",
      "Requirement already satisfied: certifi>=2017.4.17 in c:\\users\\jaeyk\\anaconda3\\lib\\site-packages (from requests>=2.0.0->requests-oauthlib>=0.7.0->google-auth-oauthlib) (2021.10.8)\n",
      "Requirement already satisfied: charset-normalizer~=2.0.0 in c:\\users\\jaeyk\\anaconda3\\lib\\site-packages (from requests>=2.0.0->requests-oauthlib>=0.7.0->google-auth-oauthlib) (2.0.4)\n",
      "Requirement already satisfied: idna<4,>=2.5 in c:\\users\\jaeyk\\anaconda3\\lib\\site-packages (from requests>=2.0.0->requests-oauthlib>=0.7.0->google-auth-oauthlib) (3.3)\n",
      "Requirement already satisfied: oauth2client in c:\\users\\jaeyk\\anaconda3\\lib\\site-packages (4.1.3)\n",
      "Requirement already satisfied: httplib2>=0.9.1 in c:\\users\\jaeyk\\anaconda3\\lib\\site-packages (from oauth2client) (0.21.0)\n",
      "Requirement already satisfied: six>=1.6.1 in c:\\users\\jaeyk\\anaconda3\\lib\\site-packages (from oauth2client) (1.16.0)\n",
      "Requirement already satisfied: pyasn1-modules>=0.0.5 in c:\\users\\jaeyk\\anaconda3\\lib\\site-packages (from oauth2client) (0.2.8)\n",
      "Requirement already satisfied: pyasn1>=0.1.7 in c:\\users\\jaeyk\\anaconda3\\lib\\site-packages (from oauth2client) (0.4.8)\n",
      "Requirement already satisfied: rsa>=3.1.4 in c:\\users\\jaeyk\\anaconda3\\lib\\site-packages (from oauth2client) (4.7.2)\n",
      "Requirement already satisfied: pyparsing!=3.0.0,!=3.0.1,!=3.0.2,!=3.0.3,<4,>=2.4.2 in c:\\users\\jaeyk\\anaconda3\\lib\\site-packages (from httplib2>=0.9.1->oauth2client) (3.0.4)\n",
      "Requirement already satisfied: google-auth in c:\\users\\jaeyk\\anaconda3\\lib\\site-packages (2.14.0)\n",
      "Requirement already satisfied: cachetools<6.0,>=2.0.0 in c:\\users\\jaeyk\\anaconda3\\lib\\site-packages (from google-auth) (4.2.2)\n",
      "Requirement already satisfied: pyasn1-modules>=0.2.1 in c:\\users\\jaeyk\\anaconda3\\lib\\site-packages (from google-auth) (0.2.8)\n",
      "Requirement already satisfied: rsa<5,>=3.1.4 in c:\\users\\jaeyk\\anaconda3\\lib\\site-packages (from google-auth) (4.7.2)\n",
      "Requirement already satisfied: six>=1.9.0 in c:\\users\\jaeyk\\anaconda3\\lib\\site-packages (from google-auth) (1.16.0)\n",
      "Requirement already satisfied: pyasn1<0.5.0,>=0.4.6 in c:\\users\\jaeyk\\anaconda3\\lib\\site-packages (from pyasn1-modules>=0.2.1->google-auth) (0.4.8)\n",
      "Requirement already satisfied: gspread in c:\\users\\jaeyk\\anaconda3\\lib\\site-packages (5.6.2)\n",
      "Requirement already satisfied: google-auth>=1.12.0 in c:\\users\\jaeyk\\anaconda3\\lib\\site-packages (from gspread) (2.14.0)\n",
      "Requirement already satisfied: google-auth-oauthlib>=0.4.1 in c:\\users\\jaeyk\\anaconda3\\lib\\site-packages (from gspread) (0.7.0)\n",
      "Requirement already satisfied: cachetools<6.0,>=2.0.0 in c:\\users\\jaeyk\\anaconda3\\lib\\site-packages (from google-auth>=1.12.0->gspread) (4.2.2)\n",
      "Requirement already satisfied: pyasn1-modules>=0.2.1 in c:\\users\\jaeyk\\anaconda3\\lib\\site-packages (from google-auth>=1.12.0->gspread) (0.2.8)\n",
      "Requirement already satisfied: rsa<5,>=3.1.4 in c:\\users\\jaeyk\\anaconda3\\lib\\site-packages (from google-auth>=1.12.0->gspread) (4.7.2)\n",
      "Requirement already satisfied: six>=1.9.0 in c:\\users\\jaeyk\\anaconda3\\lib\\site-packages (from google-auth>=1.12.0->gspread) (1.16.0)\n",
      "Requirement already satisfied: requests-oauthlib>=0.7.0 in c:\\users\\jaeyk\\anaconda3\\lib\\site-packages (from google-auth-oauthlib>=0.4.1->gspread) (1.3.1)\n",
      "Requirement already satisfied: pyasn1<0.5.0,>=0.4.6 in c:\\users\\jaeyk\\anaconda3\\lib\\site-packages (from pyasn1-modules>=0.2.1->google-auth>=1.12.0->gspread) (0.4.8)\n",
      "Requirement already satisfied: oauthlib>=3.0.0 in c:\\users\\jaeyk\\anaconda3\\lib\\site-packages (from requests-oauthlib>=0.7.0->google-auth-oauthlib>=0.4.1->gspread) (3.2.2)\n",
      "Requirement already satisfied: requests>=2.0.0 in c:\\users\\jaeyk\\anaconda3\\lib\\site-packages (from requests-oauthlib>=0.7.0->google-auth-oauthlib>=0.4.1->gspread) (2.27.1)\n",
      "Requirement already satisfied: charset-normalizer~=2.0.0 in c:\\users\\jaeyk\\anaconda3\\lib\\site-packages (from requests>=2.0.0->requests-oauthlib>=0.7.0->google-auth-oauthlib>=0.4.1->gspread) (2.0.4)\n",
      "Requirement already satisfied: idna<4,>=2.5 in c:\\users\\jaeyk\\anaconda3\\lib\\site-packages (from requests>=2.0.0->requests-oauthlib>=0.7.0->google-auth-oauthlib>=0.4.1->gspread) (3.3)\n",
      "Requirement already satisfied: certifi>=2017.4.17 in c:\\users\\jaeyk\\anaconda3\\lib\\site-packages (from requests>=2.0.0->requests-oauthlib>=0.7.0->google-auth-oauthlib>=0.4.1->gspread) (2021.10.8)\n",
      "Requirement already satisfied: urllib3<1.27,>=1.21.1 in c:\\users\\jaeyk\\anaconda3\\lib\\site-packages (from requests>=2.0.0->requests-oauthlib>=0.7.0->google-auth-oauthlib>=0.4.1->gspread) (1.26.9)\n",
      "Requirement already satisfied: gspread-dataframe in c:\\users\\jaeyk\\anaconda3\\lib\\site-packages (3.3.0)\n",
      "Requirement already satisfied: six>=1.12.0 in c:\\users\\jaeyk\\anaconda3\\lib\\site-packages (from gspread-dataframe) (1.16.0)\n",
      "Requirement already satisfied: gspread>=3.0.0 in c:\\users\\jaeyk\\anaconda3\\lib\\site-packages (from gspread-dataframe) (5.6.2)\n",
      "Requirement already satisfied: pandas>=0.24.0 in c:\\users\\jaeyk\\anaconda3\\lib\\site-packages (from gspread-dataframe) (1.1.5)\n",
      "Requirement already satisfied: google-auth-oauthlib>=0.4.1 in c:\\users\\jaeyk\\anaconda3\\lib\\site-packages (from gspread>=3.0.0->gspread-dataframe) (0.7.0)\n",
      "Requirement already satisfied: google-auth>=1.12.0 in c:\\users\\jaeyk\\anaconda3\\lib\\site-packages (from gspread>=3.0.0->gspread-dataframe) (2.14.0)\n",
      "Requirement already satisfied: rsa<5,>=3.1.4 in c:\\users\\jaeyk\\anaconda3\\lib\\site-packages (from google-auth>=1.12.0->gspread>=3.0.0->gspread-dataframe) (4.7.2)\n",
      "Requirement already satisfied: pyasn1-modules>=0.2.1 in c:\\users\\jaeyk\\anaconda3\\lib\\site-packages (from google-auth>=1.12.0->gspread>=3.0.0->gspread-dataframe) (0.2.8)\n",
      "Requirement already satisfied: cachetools<6.0,>=2.0.0 in c:\\users\\jaeyk\\anaconda3\\lib\\site-packages (from google-auth>=1.12.0->gspread>=3.0.0->gspread-dataframe) (4.2.2)\n",
      "Requirement already satisfied: requests-oauthlib>=0.7.0 in c:\\users\\jaeyk\\anaconda3\\lib\\site-packages (from google-auth-oauthlib>=0.4.1->gspread>=3.0.0->gspread-dataframe) (1.3.1)\n",
      "Requirement already satisfied: numpy>=1.15.4 in c:\\users\\jaeyk\\anaconda3\\lib\\site-packages (from pandas>=0.24.0->gspread-dataframe) (1.21.5)\n",
      "Requirement already satisfied: python-dateutil>=2.7.3 in c:\\users\\jaeyk\\anaconda3\\lib\\site-packages (from pandas>=0.24.0->gspread-dataframe) (2.8.2)\n",
      "Requirement already satisfied: pytz>=2017.2 in c:\\users\\jaeyk\\anaconda3\\lib\\site-packages (from pandas>=0.24.0->gspread-dataframe) (2021.3)\n",
      "Requirement already satisfied: pyasn1<0.5.0,>=0.4.6 in c:\\users\\jaeyk\\anaconda3\\lib\\site-packages (from pyasn1-modules>=0.2.1->google-auth>=1.12.0->gspread>=3.0.0->gspread-dataframe) (0.4.8)\n",
      "Requirement already satisfied: oauthlib>=3.0.0 in c:\\users\\jaeyk\\anaconda3\\lib\\site-packages (from requests-oauthlib>=0.7.0->google-auth-oauthlib>=0.4.1->gspread>=3.0.0->gspread-dataframe) (3.2.2)\n",
      "Requirement already satisfied: requests>=2.0.0 in c:\\users\\jaeyk\\anaconda3\\lib\\site-packages (from requests-oauthlib>=0.7.0->google-auth-oauthlib>=0.4.1->gspread>=3.0.0->gspread-dataframe) (2.27.1)\n",
      "Requirement already satisfied: certifi>=2017.4.17 in c:\\users\\jaeyk\\anaconda3\\lib\\site-packages (from requests>=2.0.0->requests-oauthlib>=0.7.0->google-auth-oauthlib>=0.4.1->gspread>=3.0.0->gspread-dataframe) (2021.10.8)\n",
      "Requirement already satisfied: charset-normalizer~=2.0.0 in c:\\users\\jaeyk\\anaconda3\\lib\\site-packages (from requests>=2.0.0->requests-oauthlib>=0.7.0->google-auth-oauthlib>=0.4.1->gspread>=3.0.0->gspread-dataframe) (2.0.4)\n",
      "Requirement already satisfied: idna<4,>=2.5 in c:\\users\\jaeyk\\anaconda3\\lib\\site-packages (from requests>=2.0.0->requests-oauthlib>=0.7.0->google-auth-oauthlib>=0.4.1->gspread>=3.0.0->gspread-dataframe) (3.3)\n",
      "Requirement already satisfied: urllib3<1.27,>=1.21.1 in c:\\users\\jaeyk\\anaconda3\\lib\\site-packages (from requests>=2.0.0->requests-oauthlib>=0.7.0->google-auth-oauthlib>=0.4.1->gspread>=3.0.0->gspread-dataframe) (1.26.9)\n",
      "Requirement already satisfied: pandasql in c:\\users\\jaeyk\\anaconda3\\lib\\site-packages (0.7.3)\n",
      "Requirement already satisfied: sqlalchemy in c:\\users\\jaeyk\\anaconda3\\lib\\site-packages (from pandasql) (1.3.9)\n",
      "Requirement already satisfied: numpy in c:\\users\\jaeyk\\anaconda3\\lib\\site-packages (from pandasql) (1.21.5)\n",
      "Requirement already satisfied: pandas in c:\\users\\jaeyk\\anaconda3\\lib\\site-packages (from pandasql) (1.1.5)\n",
      "Requirement already satisfied: pytz>=2017.2 in c:\\users\\jaeyk\\anaconda3\\lib\\site-packages (from pandas->pandasql) (2021.3)\n",
      "Requirement already satisfied: python-dateutil>=2.7.3 in c:\\users\\jaeyk\\anaconda3\\lib\\site-packages (from pandas->pandasql) (2.8.2)\n",
      "Requirement already satisfied: six>=1.5 in c:\\users\\jaeyk\\anaconda3\\lib\\site-packages (from python-dateutil>=2.7.3->pandas->pandasql) (1.16.0)\n",
      "Requirement already satisfied: yfinance in c:\\users\\jaeyk\\anaconda3\\lib\\site-packages (0.1.79)\n",
      "Requirement already satisfied: requests>=2.26 in c:\\users\\jaeyk\\anaconda3\\lib\\site-packages (from yfinance) (2.27.1)\n",
      "Requirement already satisfied: multitasking>=0.0.7 in c:\\users\\jaeyk\\anaconda3\\lib\\site-packages (from yfinance) (0.0.11)\n",
      "Requirement already satisfied: lxml>=4.5.1 in c:\\users\\jaeyk\\anaconda3\\lib\\site-packages (from yfinance) (4.6.4)\n",
      "Requirement already satisfied: appdirs>=1.4.4 in c:\\users\\jaeyk\\anaconda3\\lib\\site-packages (from yfinance) (1.4.4)\n",
      "Requirement already satisfied: pandas>=0.24.0 in c:\\users\\jaeyk\\anaconda3\\lib\\site-packages (from yfinance) (1.1.5)\n",
      "Requirement already satisfied: numpy>=1.15 in c:\\users\\jaeyk\\anaconda3\\lib\\site-packages (from yfinance) (1.21.5)\n",
      "Requirement already satisfied: pytz>=2017.2 in c:\\users\\jaeyk\\anaconda3\\lib\\site-packages (from pandas>=0.24.0->yfinance) (2021.3)\n",
      "Requirement already satisfied: python-dateutil>=2.7.3 in c:\\users\\jaeyk\\anaconda3\\lib\\site-packages (from pandas>=0.24.0->yfinance) (2.8.2)\n",
      "Requirement already satisfied: six>=1.5 in c:\\users\\jaeyk\\anaconda3\\lib\\site-packages (from python-dateutil>=2.7.3->pandas>=0.24.0->yfinance) (1.16.0)\n",
      "Requirement already satisfied: charset-normalizer~=2.0.0 in c:\\users\\jaeyk\\anaconda3\\lib\\site-packages (from requests>=2.26->yfinance) (2.0.4)\n",
      "Requirement already satisfied: idna<4,>=2.5 in c:\\users\\jaeyk\\anaconda3\\lib\\site-packages (from requests>=2.26->yfinance) (3.3)\n",
      "Requirement already satisfied: urllib3<1.27,>=1.21.1 in c:\\users\\jaeyk\\anaconda3\\lib\\site-packages (from requests>=2.26->yfinance) (1.26.9)\n",
      "Requirement already satisfied: certifi>=2017.4.17 in c:\\users\\jaeyk\\anaconda3\\lib\\site-packages (from requests>=2.26->yfinance) (2021.10.8)\n"
     ]
    }
   ],
   "source": [
    "!pip install google-auth-oauthlib\n",
    "!pip install oauth2client\n",
    "!pip install google-auth\n",
    "!pip install gspread\n",
    "!pip install gspread-dataframe\n",
    "!pip install -U pandasql\n",
    "!pip install yfinance"
   ]
  },
  {
   "cell_type": "code",
   "execution_count": 2,
   "id": "d4d00a93-3ac2-4252-9a19-01cc119bbf6c",
   "metadata": {},
   "outputs": [],
   "source": [
    "from datetime import date\n",
    "from datetime import timedelta\n",
    "import pandas as pd\n",
    "from pandasql import sqldf\n",
    "import gspread\n",
    "import gspread_dataframe as gd\n",
    "from oauth2client.service_account import ServiceAccountCredentials\n",
    "import yfinance as yf"
   ]
  },
  {
   "cell_type": "code",
   "execution_count": 3,
   "id": "efb0b1d3-dc40-494c-9f03-ac53c35e3428",
   "metadata": {},
   "outputs": [],
   "source": [
    "#access google sheet file\n",
    "scope = [\"https://spreadsheets.google.com/feeds\",'https://www.googleapis.com/auth/spreadsheets',\"https://www.googleapis.com/auth/drive.file\",\"https://www.googleapis.com/auth/drive\"]\n",
    "creds = ServiceAccountCredentials.from_json_keyfile_name(\"stock-367302-c665cb9043f9.json\", scope)\n",
    "client = gspread.authorize(creds)"
   ]
  },
  {
   "cell_type": "code",
   "execution_count": 4,
   "id": "111b85e2-cae1-4343-a5ff-a7ea82dbdd2c",
   "metadata": {},
   "outputs": [],
   "source": [
    "#set date variables of today and 3 years ago  \n",
    "today = date.today()\n",
    "strToday = today.strftime('%Y-%m-%d') #conver to string as yfinance only takes string\n",
    "strBefore =  (date.today() - timedelta(days = 1095)).strftime('%Y-%m-%d')"
   ]
  },
  {
   "cell_type": "code",
   "execution_count": 5,
   "id": "bc9df350-2561-40ba-8b5a-4e3433618163",
   "metadata": {},
   "outputs": [],
   "source": [
    "#set up lists for populating each Google sheet through loop   \n",
    "bankList = [\"TD\", \"RB\", \"Scotia\", \"CIBC\", \"BMO\", \"NB\"] #these are tab names in google sheet file\n",
    "tickerList = [\"TD.TO\", \"RY.TO\", \"BNS.TO\", \"CM.TO\", \"BMO.TO\", \"NA.TO\"] # these are tickers of stocks"
   ]
  },
  {
   "cell_type": "code",
   "execution_count": 6,
   "id": "dcc7026e-cb59-48fc-887d-32bf2cd103c7",
   "metadata": {
    "tags": []
   },
   "outputs": [
    {
     "name": "stdout",
     "output_type": "stream",
     "text": [
      "[*********************100%***********************]  1 of 1 completed\n",
      "[*********************100%***********************]  1 of 1 completed\n",
      "[*********************100%***********************]  1 of 1 completed\n",
      "[*********************100%***********************]  1 of 1 completed\n",
      "[*********************100%***********************]  1 of 1 completed\n",
      "[*********************100%***********************]  1 of 1 completed\n"
     ]
    }
   ],
   "source": [
    "# populate stock data for each bank \n",
    "for bankName, ticker in zip(bankList, tickerList):\n",
    "    bankData = yf.download(ticker, start=strBefore, end=strToday) #get stock information. yfinance returns pandas dataframe with Date as primary key\n",
    "    bankData = sqldf('SELECT date(Date) as Date, Close, Volume from bankData', globals()) #only keep Date, Close and Volumn columns\n",
    "    \n",
    "    sheet = client.open(\"Canadian Bank Stock Price 3yrs\").worksheet(bankName) #access tab in Google sheet that correspond to bank name\n",
    "    rowsToAppend = bankData.values.tolist() # covert dataframe to list of rows as gspread api cannot handle dataframe\n",
    "    sheet.append_rows(rowsToAppend) # Append the empty table (header is manually populated in sheets)"
   ]
  }
 ],
 "metadata": {
  "kernelspec": {
   "display_name": "Python 3 (ipykernel)",
   "language": "python",
   "name": "python3"
  },
  "language_info": {
   "codemirror_mode": {
    "name": "ipython",
    "version": 3
   },
   "file_extension": ".py",
   "mimetype": "text/x-python",
   "name": "python",
   "nbconvert_exporter": "python",
   "pygments_lexer": "ipython3",
   "version": "3.9.12"
  }
 },
 "nbformat": 4,
 "nbformat_minor": 5
}
